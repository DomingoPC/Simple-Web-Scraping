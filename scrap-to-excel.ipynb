{
 "cells": [
  {
   "cell_type": "code",
   "execution_count": 1,
   "metadata": {},
   "outputs": [],
   "source": [
    "import requests as req\n",
    "from bs4 import BeautifulSoup\n",
    "import pandas as pd\n",
    "import re\n",
    "import time"
   ]
  },
  {
   "cell_type": "code",
   "execution_count": null,
   "metadata": {},
   "outputs": [],
   "source": [
    "# Fetch page\n",
    "url_origin = 'https://www.glyphweb.com/esky/stars/'\n",
    "response = req.get(url=url_origin)\n",
    "\n",
    "# Parse the HTML content\n",
    "soup = BeautifulSoup(response.text, features='lxml')\n",
    "star_items = soup.find_all(attrs={'class':'index-item'}) # List of <\\> with class='index-item'"
   ]
  },
  {
   "cell_type": "code",
   "execution_count": 9,
   "metadata": {},
   "outputs": [
    {
     "name": "stdout",
     "output_type": "stream",
     "text": [
      "Processing star 1313 of 1313... (Estimated time 0.0 minutes)   \r"
     ]
    }
   ],
   "source": [
    "def star_dataframe(star_items):\n",
    "    n_stars = len(star_items)\n",
    "    stars_dict = {'name': [], 'url': [], 'visible_ini': [], 'visible_end': []}\n",
    "\n",
    "    for idx,item in enumerate(star_items, 1):\n",
    "        # Progress\n",
    "        print(f'Processing star {idx} of {n_stars}... (Estimated time {round((n_stars-idx)*3/60, 0)} minutes)  ', end='\\r') \n",
    "        \n",
    "        # Skip if name is already in the list\n",
    "        check_name = item.get_text(strip=True)\n",
    "        if check_name in stars_dict['name']:\n",
    "            continue \n",
    "        \n",
    "        # Extract info\n",
    "        if item.find('a'):\n",
    "            # Star url for more info (multiple names, visibility...)\n",
    "            url_star = url_origin + item.find('a')['href']\n",
    "\n",
    "            # Request info\n",
    "            res = req.get(url=url_star)\n",
    "            time.sleep(3) # Wait a bit after request\n",
    "\n",
    "            # Parse the HTML content\n",
    "            s = BeautifulSoup(res.text, features='lxml')\n",
    "            star_info = s.find_all(attrs={'class': 'factboxValue'})\n",
    "\n",
    "            try: # Structured info (e.g. https://www.glyphweb.com/esky/stars/acamar.html)\n",
    "                # Name and visibility months\n",
    "                names = star_info[0].get_text(strip=True)\n",
    "                visible = star_info[11].get_text(strip=True)\n",
    "\n",
    "                # Clear text: remove extra info in parenthesis and white spaces\n",
    "                names = re.sub(pattern=r'\\s+\\(.+\\)', repl='', string=names)\n",
    "                visible = re.sub(pattern=r'\\s+\\(.+\\)', repl='', string=visible)\n",
    "\n",
    "                # Split visibility (if can be seen in multiple months) by ' / '\n",
    "                visible = visible.split(' / ')\n",
    "                visible_ini = visible[0]\n",
    "                if len(visible) > 1:\n",
    "                    visible_end = visible[1]\n",
    "                else:\n",
    "                    visible_end = visible_ini\n",
    "                \n",
    "                # Split names (if multiple) by ', '\n",
    "                names = names.split(', ')\n",
    "\n",
    "                # Store info into dictionary without duplicates\n",
    "                for name in names:\n",
    "                    if name not in stars_dict['name']:\n",
    "                        stars_dict['name'].append(name)\n",
    "                        stars_dict['url'].append(url_star)\n",
    "                        stars_dict['visible_ini'].append(visible_ini)\n",
    "                        stars_dict['visible_end'].append(visible_end)\n",
    "\n",
    "            except: # Missing structured info (e.g. https://www.glyphweb.com/esky/stars/acubens.html)\n",
    "                stars_dict['name'].append(check_name)\n",
    "                stars_dict['url'].append(url_star)\n",
    "                stars_dict['visible_ini'].append(pd.NA)\n",
    "                stars_dict['visible_end'].append(pd.NA)\n",
    "\n",
    "    return pd.DataFrame(stars_dict)\n",
    "\n",
    "stars_df = star_dataframe(star_items)\n"
   ]
  },
  {
   "cell_type": "code",
   "execution_count": null,
   "metadata": {},
   "outputs": [
    {
     "data": {
      "text/html": [
       "<div>\n",
       "<style scoped>\n",
       "    .dataframe tbody tr th:only-of-type {\n",
       "        vertical-align: middle;\n",
       "    }\n",
       "\n",
       "    .dataframe tbody tr th {\n",
       "        vertical-align: top;\n",
       "    }\n",
       "\n",
       "    .dataframe thead th {\n",
       "        text-align: right;\n",
       "    }\n",
       "</style>\n",
       "<table border=\"1\" class=\"dataframe\">\n",
       "  <thead>\n",
       "    <tr style=\"text-align: right;\">\n",
       "      <th></th>\n",
       "      <th>name</th>\n",
       "      <th>url</th>\n",
       "      <th>visible_ini</th>\n",
       "      <th>visible_end</th>\n",
       "    </tr>\n",
       "  </thead>\n",
       "  <tbody>\n",
       "    <tr>\n",
       "      <th>0</th>\n",
       "      <td>Acamar</td>\n",
       "      <td>https://www.glyphweb.com/esky/stars/acamar.html</td>\n",
       "      <td>November</td>\n",
       "      <td>November</td>\n",
       "    </tr>\n",
       "    <tr>\n",
       "      <th>1</th>\n",
       "      <td>Aldulfin</td>\n",
       "      <td>https://www.glyphweb.com/esky/stars/aldulfin.html</td>\n",
       "      <td>August</td>\n",
       "      <td>August</td>\n",
       "    </tr>\n",
       "    <tr>\n",
       "      <th>2</th>\n",
       "      <td>Deneb Dulfim</td>\n",
       "      <td>https://www.glyphweb.com/esky/stars/aldulfin.html</td>\n",
       "      <td>August</td>\n",
       "      <td>August</td>\n",
       "    </tr>\n",
       "    <tr>\n",
       "      <th>3</th>\n",
       "      <td>Alrescha</td>\n",
       "      <td>https://www.glyphweb.com/esky/stars/alrisha.html</td>\n",
       "      <td>November</td>\n",
       "      <td>November</td>\n",
       "    </tr>\n",
       "    <tr>\n",
       "      <th>4</th>\n",
       "      <td>Alrisha</td>\n",
       "      <td>https://www.glyphweb.com/esky/stars/alrisha.html</td>\n",
       "      <td>November</td>\n",
       "      <td>November</td>\n",
       "    </tr>\n",
       "  </tbody>\n",
       "</table>\n",
       "</div>"
      ],
      "text/plain": [
       "           name                                                url  \\\n",
       "0        Acamar    https://www.glyphweb.com/esky/stars/acamar.html   \n",
       "1      Aldulfin  https://www.glyphweb.com/esky/stars/aldulfin.html   \n",
       "2  Deneb Dulfim  https://www.glyphweb.com/esky/stars/aldulfin.html   \n",
       "3      Alrescha   https://www.glyphweb.com/esky/stars/alrisha.html   \n",
       "4       Alrisha   https://www.glyphweb.com/esky/stars/alrisha.html   \n",
       "\n",
       "  visible_ini visible_end  \n",
       "0    November    November  \n",
       "1      August      August  \n",
       "2      August      August  \n",
       "3    November    November  \n",
       "4    November    November  "
      ]
     },
     "metadata": {},
     "output_type": "display_data"
    }
   ],
   "source": [
    "display(stars_df.head(5))\n",
    "stars_df.to_csv('data/stars_df.csv')"
   ]
  }
 ],
 "metadata": {
  "kernelspec": {
   "display_name": "base",
   "language": "python",
   "name": "python3"
  },
  "language_info": {
   "codemirror_mode": {
    "name": "ipython",
    "version": 3
   },
   "file_extension": ".py",
   "mimetype": "text/x-python",
   "name": "python",
   "nbconvert_exporter": "python",
   "pygments_lexer": "ipython3",
   "version": "3.11.10"
  }
 },
 "nbformat": 4,
 "nbformat_minor": 2
}
